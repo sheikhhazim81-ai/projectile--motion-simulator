{
  "nbformat": 4,
  "nbformat_minor": 0,
  "metadata": {
    "colab": {
      "provenance": []
    },
    "kernelspec": {
      "name": "python3",
      "display_name": "Python 3"
    },
    "language_info": {
      "name": "python"
    }
  },
  "cells": [
    {
      "cell_type": "markdown",
      "source": [
        "# Projectile Motion Simulator\n",
        "\n",
        "## Overview\n",
        "This simulation models the motion of a projectile (like a thrown ball or cannonball) under gravity in physics mechanics. It ignores air resistance and uses these key equations:\n",
        "\n",
        "- Horizontal distance: \\( x = v_0 \\cos\\theta \\cdot t \\)\n",
        "- Vertical distance: \\( y = v_0 \\sin\\theta \\cdot t - \\frac{1}{2} g t^2 \\)\n",
        "- Maximum height: \\( h = \\frac{v_0^2 \\sin^2\\theta}{2g} \\)\n",
        "- Horizontal range: \\( r = \\frac{v_0^2 \\sin 2\\theta}{g} \\)\n",
        "- Time of flight: \\( t = \\frac{2 v_0 \\sin\\theta}{g} \\)\n",
        "\n",
        "Here, \\( v_0 \\) is initial velocity, \\( \\theta \\) is launch angle, \\( g \\) is gravity (9.81 m/s²), and \\( t \\) is time.\n",
        "\n",
        "## Usage\n",
        "- Run the cells above.\n",
        "- Use the sliders in the simulation section to change velocity and angle.\n",
        "- The plot and numbers will update automatically to show the path and results.\n",
        "\n",
        "Created by Hazim in 2025 as a personal project to learn and apply classical mechanics using Python."
      ],
      "metadata": {
        "id": "G4eyQ7YZJ6SG"
      }
    },
    {
      "cell_type": "code",
      "execution_count": null,
      "metadata": {
        "id": "RcWl6UsoH7WX"
      },
      "outputs": [],
      "source": [
        "import numpy as np\n",
        "import matplotlib.pyplot as plt\n",
        "from ipywidgets import interact, FloatSlider, IntSlider\n",
        "\n",
        "def projectile_motion(initial_velocity, launch_angle, gravity=9.81):\n",
        "    angle_rad = np.radians(launch_angle)\n",
        "    time_of_flight = (2 * initial_velocity * np.sin(angle_rad)) / gravity\n",
        "    max_height = (initial_velocity**2 * np.sin(angle_rad)**2) / (2 * gravity)\n",
        "    range_distance = (initial_velocity**2 * np.sin(2 * angle_rad)) / gravity\n",
        "\n",
        "    t = np.linspace(0, time_of_flight, num=500)  # More points for smoother curve\n",
        "    x = initial_velocity * np.cos(angle_rad) * t\n",
        "    y = (initial_velocity * np.sin(angle_rad) * t) - (0.5 * gravity * t**2)\n",
        "\n",
        "    return x, y, time_of_flight, max_height, range_distance"
      ]
    },
    {
      "cell_type": "code",
      "source": [
        "@interact(velocity=FloatSlider(min=1, max=100, step=1, value=20, description='Initial Velocity (m/s):'),\n",
        "          angle=IntSlider(min=0, max=90, step=1, value=45, description='Launch Angle (°):'))\n",
        "def simulate_projectile(velocity, angle):\n",
        "    x, y, tof, hmax, rmax = projectile_motion(velocity, angle)\n",
        "\n",
        "    plt.figure(figsize=(12, 6))\n",
        "    plt.plot(x, y, color='blue', linewidth=2, label=f'Angle: {angle}°')\n",
        "    plt.title('Projectile Motion Simulation', fontsize=16)\n",
        "    plt.xlabel('Horizontal Distance (m)', fontsize=12)\n",
        "    plt.ylabel('Vertical Distance (m)', fontsize=12)\n",
        "    plt.xlim(0, max(x)*1.1)\n",
        "    plt.ylim(0, max(y)*1.1)\n",
        "    plt.grid(True, linestyle='--', alpha=0.7)\n",
        "    plt.annotate(f'Max Height: {hmax:.2f} m', xy=(0, hmax), xytext=(10, hmax+5),\n",
        "                 arrowprops=dict(facecolor='black', shrink=0.05), fontsize=10)\n",
        "    plt.annotate(f'Range: {rmax:.2f} m', xy=(rmax, 0), xytext=(rmax-20, 5),\n",
        "                 arrowprops=dict(facecolor='black', shrink=0.05), fontsize=10)\n",
        "    plt.legend()\n",
        "    plt.show()\n",
        "\n",
        "    print(f\"Time of Flight: {tof:.2f} seconds\")\n",
        "    print(f\"Maximum Height: {hmax:.2f} meters\")\n",
        "    print(f\"Horizontal Range: {rmax:.2f} meters\")"
      ],
      "metadata": {
        "id": "u1I4vY2OIDgz"
      },
      "execution_count": null,
      "outputs": []
    }
  ]
}